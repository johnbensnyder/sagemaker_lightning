{
 "cells": [
  {
   "cell_type": "code",
   "execution_count": null,
   "metadata": {},
   "outputs": [],
   "source": [
    "# !pip install -e ./src"
   ]
  },
  {
   "cell_type": "code",
   "execution_count": null,
   "metadata": {},
   "outputs": [],
   "source": [
    "import os\n",
    "import json\n",
    "import argparse\n",
    "import sys\n",
    "import warnings\n",
    "from pathlib import Path\n",
    "from ast import literal_eval\n",
    "warnings.filterwarnings('ignore')\n",
    "\n",
    "import torch\n",
    "import torchvision as tv\n",
    "import pytorch_lightning as pl\n",
    "import webdataset as wds\n",
    "from sm_resnet.models import ResNet\n",
    "from sm_resnet.callbacks import PlSageMakerLogger, ProfilerCallback, SMDebugCallback\n",
    "from sm_resnet import callbacks\n",
    "from smdebug.core.reduction_config import ReductionConfig\n",
    "from smdebug.core.save_config import SaveConfig\n",
    "from smdebug.core.collection import CollectionKeys\n",
    "\n",
    "world_size = int(os.environ.get(\"WORLD_SIZE\", 1))\n",
    "rank = int(os.environ.get(\"RANK\", 0))\n",
    "local_rank = int(os.environ.get(\"LOCAL_RANK\", 0))"
   ]
  },
  {
   "cell_type": "code",
   "execution_count": null,
   "metadata": {},
   "outputs": [],
   "source": [
    "s3_bucket = \"s3://jbsnyder-sagemaker-us-east/\"\n",
    "\n",
    "model_params = {'num_classes': 1000,\n",
    "                    'resnet_version': 50,\n",
    "                    'train_path': os.path.join(s3_bucket, \"data\", \"imagenet\", \"train\"),\n",
    "                    'val_path': os.path.join(s3_bucket, \"data\", \"imagenet\", \"val\"),\n",
    "                    'optimizer': 'adamw',\n",
    "                    'lr': 0.004, \n",
    "                    'batch_size': 64,\n",
    "                    'dataloader_workers': 0,\n",
    "                    'max_epochs': 2,\n",
    "                    'warmup_epochs': 1,\n",
    "                    'mixup_alpha': 0.1\n",
    "                   }\n",
    "\n",
    "trainer_params = {'gpus': [local_rank],\n",
    "                  'max_epochs': 2,\n",
    "                  'precision': 16,\n",
    "                  'progress_bar_refresh_rate': 0,\n",
    "                  'replace_sampler_ddp': False,\n",
    "                  'callbacks': [PlSageMakerLogger()]\n",
    "                  }\n",
    "\n",
    "debugger_params = {'out_dir': os.path.join(os.getcwd(), 'debugger_output'),\n",
    "                       'export_tensorboard': True,\n",
    "                       'tensorboard_dir': os.path.join(os.getcwd(), 'tensorboard'),\n",
    "                       'reduction_config': ReductionConfig(reductions=['mean', 'std']),\n",
    "                       'save_config': SaveConfig(save_interval=25),\n",
    "                       'include_collections': [CollectionKeys.LOSSES, CollectionKeys.GRADIENTS],\n",
    "                       'save_all': False,\n",
    "                       }\n",
    "\n",
    "trainer_params['callbacks'].append(SMDebugCallback(**debugger_params))"
   ]
  },
  {
   "cell_type": "code",
   "execution_count": null,
   "metadata": {},
   "outputs": [],
   "source": [
    "model = ResNet(**model_params)\n",
    "trainer = pl.Trainer(**trainer_params)"
   ]
  },
  {
   "cell_type": "code",
   "execution_count": null,
   "metadata": {},
   "outputs": [],
   "source": [
    "trainer.fit(model)"
   ]
  },
  {
   "cell_type": "code",
   "execution_count": null,
   "metadata": {},
   "outputs": [],
   "source": []
  }
 ],
 "metadata": {
  "instance_type": "ml.g4dn.xlarge",
  "kernelspec": {
   "display_name": "Python 3 (PyTorch 1.8 Python 3.6 GPU Optimized)",
   "language": "python",
   "name": "python3__SAGEMAKER_INTERNAL__arn:aws:sagemaker:us-east-1:081325390199:image/pytorch-1.8-gpu-py36"
  },
  "language_info": {
   "codemirror_mode": {
    "name": "ipython",
    "version": 3
   },
   "file_extension": ".py",
   "mimetype": "text/x-python",
   "name": "python",
   "nbconvert_exporter": "python",
   "pygments_lexer": "ipython3",
   "version": "3.6.13"
  }
 },
 "nbformat": 4,
 "nbformat_minor": 4
}
